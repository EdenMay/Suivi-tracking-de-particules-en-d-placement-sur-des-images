{
 "cells": [
  {
   "cell_type": "code",
   "execution_count": 2,
   "metadata": {},
   "outputs": [],
   "source": [
    "# importation des librairies Python et configuration de l'environnement d'affichage\n",
    "%matplotlib qt\n",
    "import matplotlib.pyplot as plt\n",
    "from skimage import io\n",
    "import numpy as np"
   ]
  },
  {
   "cell_type": "code",
   "execution_count": 3,
   "metadata": {},
   "outputs": [],
   "source": [
    "\n",
    "# Lecture des positions des particules sur les deux images consécutives\n",
    "[x1,y1,t1] = np.load('./position1.npy')\n",
    "[x2,y2,t2] = np.load('./position2.npy')\n"
   ]
  },
  {
   "cell_type": "code",
   "execution_count": 4,
   "metadata": {},
   "outputs": [],
   "source": [
    "#-----APPARIEMENT\n",
    "# X stocke les coordonnées x des particules, Y leurs coordonnées y et T stocke leur taille (petite = 1 ou grande = 2)\n",
    "X = []; Y = []; T = [] # Listes vides\n",
    "\n",
    "# Ajout des informations de la première image\n",
    "X.append(x1); Y.append(y1); T.append(t1)\n",
    "\n",
    "\n",
    "# Sur la deuxième image, sélection des coordonnées des petites particules uniquement \n",
    "x2_p = x2[t2 == 1]\n",
    "y2_p = y2[t2 == 1]\n",
    "\n",
    "# Sur la deuxième image, sélection des coordonnées des grandes particules uniquement\n",
    "x2_g = x2[t2 == 2] \n",
    "y2_g = y2[t2 == 2]\n",
    "\n",
    "# Listes tampons pour contenir les résultats des appariements\n",
    "xt = [-1]* len(x1); yt = [-1]*len(y1) ; \n",
    "\n",
    "#Balayage des particules\n",
    "for k in range(len(x1)):\n",
    "    \n",
    "    x = x1[k]; y = y1[k];\n",
    "\n",
    "    # CAS D'UNE PETITE PARTICULE\n",
    "    if (t1[k] == 1):\n",
    "\n",
    "        # Distance entre la particule k de l'image 1 et toutes les petites particules de l'image 2\n",
    "        dist = np.sqrt((x - x2_p)**2 + (y - y2_p)**2)\n",
    "\n",
    "        # La particule qui admet le min de dist est forcément celle qu'on cherche\n",
    "        imin = np.argmin(dist)\n",
    "\n",
    "        # Remplissage de la case concernée dans les listes tampons\n",
    "        if (dist[imin] <= 9): #Particule retrouvée\n",
    "            xt[k] = x2_p[imin];\n",
    "            yt[k] = y2_p[imin];\n",
    "             \n",
    "        else : # paire non retrouvée\n",
    "            pass\n",
    "            # Je ne gère pas ce cas dans ce code, il fera peut être l'objet d'un autre article\n",
    "\n",
    "    # CAS D'UNE GRANDE PARTICULE\n",
    "    else : \n",
    "        if(t1[k]==2):\n",
    "\n",
    "            # Distance entre la particule k de l'image 0 et toutes les images de l'image 1\n",
    "            dist = np.sqrt((x - x2_g)**2 + (y - y2_g)**2)\n",
    "\n",
    "            # La particule qui admet le min de dist est forcément celle qu'on cherche\n",
    "            imin = np.argmin(dist)\n",
    "\n",
    "            # Remplissage de la case concernée dans les listes tampons\n",
    "            if (dist[imin] <= 9): #Particule retrouvée\n",
    "                xt[k] = x2_g[imin];\n",
    "                yt[k] = y2_g[imin];\n",
    "\n",
    "  \n",
    "            else :\n",
    "                pass\n",
    "                # particule non retrouvée, non gérée comme plus haut\n",
    "\n",
    "# Rajout des listes tampons avec les paires retrouvées aux listes globale\n",
    "X.append(np.asarray(xt)); \n",
    "Y.append(np.asarray(yt));\n"
   ]
  },
  {
   "cell_type": "code",
   "execution_count": 5,
   "metadata": {},
   "outputs": [
    {
     "data": {
      "text/plain": [
       "(-0.5, 1041.5, 1041.5, -0.5)"
      ]
     },
     "execution_count": 5,
     "metadata": {},
     "output_type": "execute_result"
    }
   ],
   "source": [
    "# Quiver plot (cartographie des déplacements)\n",
    "\n",
    "# Lecture de l'image, sauvegardée sous forme de matrice pythpn\n",
    "image = np.load('./image.npy')\n",
    "\n",
    "# Propriétés des flèches pour les déplacements\n",
    "scale = 0.08\n",
    "width = 0.005\n",
    "\n",
    "# Figure et affichage de l'image initiale en arrière plan, transparence = 0.2\n",
    "plt.figure()\n",
    "plt.imshow(image, cmap = 'gray', alpha = 0.2)\n",
    "\n",
    "# Calcul du module de déplacement pour la figure \n",
    "v = np.sqrt((xt - x1)**2 + (yt - y1)**2)\n",
    "\n",
    "# Cartographie\n",
    "plt.quiver(x1, y1,xt - x1,y1 - yt, v, scale_units='xy', scale=scale, width = width)\n",
    "plt.axis('off')\n"
   ]
  },
  {
   "cell_type": "code",
   "execution_count": null,
   "metadata": {},
   "outputs": [],
   "source": []
  }
 ],
 "metadata": {
  "kernelspec": {
   "display_name": "Python 3 (ipykernel)",
   "language": "python",
   "name": "python3"
  },
  "language_info": {
   "codemirror_mode": {
    "name": "ipython",
    "version": 3
   },
   "file_extension": ".py",
   "mimetype": "text/x-python",
   "name": "python",
   "nbconvert_exporter": "python",
   "pygments_lexer": "ipython3",
   "version": "3.9.7"
  }
 },
 "nbformat": 4,
 "nbformat_minor": 4
}
